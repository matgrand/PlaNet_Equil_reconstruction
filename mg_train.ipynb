{
 "cells": [
  {
   "cell_type": "code",
   "execution_count": 1,
   "metadata": {},
   "outputs": [
    {
     "name": "stdout",
     "output_type": "stream",
     "text": [
      "device: mps\n"
     ]
    }
   ],
   "source": [
    "import torch\n",
    "from torch.utils.data import Dataset, DataLoader\n",
    "from torch import nn\n",
    "import torch.nn.functional as F\n",
    "import scipy.io as sio\n",
    "from time import time\n",
    "import numpy as np\n",
    "import matplotlib.pyplot as plt\n",
    "from tqdm import tqdm\n",
    "\n",
    "device = torch.device(\"mps\") # apple silicon\n",
    "# device = torch.device(\"cpu\") # cpu\n",
    "# device = torch.device(\"cuda\") if torch.cuda.is_available() else torch.device(\"cpu\") # nvidia\n",
    "print(f'device: {device}')\n",
    "\n",
    "def to_tensor(x, device=torch.device(\"cpu\")): return torch.tensor(x, dtype=torch.float32, device=device)"
   ]
  },
  {
   "cell_type": "code",
   "execution_count": 2,
   "metadata": {},
   "outputs": [],
   "source": [
    "#best mse loss: 0.087"
   ]
  },
  {
   "cell_type": "code",
   "execution_count": 3,
   "metadata": {},
   "outputs": [],
   "source": [
    "# # download datasets from gdrive\n",
    "# import gdown\n",
    "# gdown.download(id=\"1-5KP7_OYIvDD_QXvIr5sDihVxZx1qJCN\", output='mg_data/ITER_like_equilibrium_dataset_sample.mat', quiet=False)\n",
    "# gdown.download(id=\"1Gn_OrMzxPRkTk-i77--HiWmWZyd8i8ue\", output='mg_data/ITER_like_equilibrium_dataset.mat', quiet=False)"
   ]
  },
  {
   "cell_type": "code",
   "execution_count": 4,
   "metadata": {},
   "outputs": [],
   "source": [
    "MODEL_SAVE_PATH = \"mg_data/mg_planet.pth\"\n",
    "EPOCHS = 20\n",
    "BATCH_SIZE = 256\n",
    "LEARNING_RATE = 3e-3\n",
    "USE_CURRENTS = True\n",
    "USE_PROFILES = False\n",
    "USE_MAGNETIC = True\n",
    "INPUT_SIZE = int(USE_CURRENTS)*14 + int(USE_PROFILES)*202 + int(USE_MAGNETIC)*187"
   ]
  },
  {
   "cell_type": "code",
   "execution_count": 5,
   "metadata": {},
   "outputs": [
    {
     "name": "stdout",
     "output_type": "stream",
     "text": [
      "sample_ds_mat keys: dict_keys(['__header__', '__version__', '__globals__', 'DB_meas_Bpickup_test_ConvNet', 'DB_psi_pixel_test_ConvNet', 'DB_res_RHS_pixel_test_ConvNet', 'DB_Jpla_pixel_test_ConvNet', 'DB_coils_curr_test_ConvNet', 'RR_pixels', 'ZZ_pixels', 'DB_separatrix_200_test_ConvNet', 'XP_YN', 'DB_f_test_ConvNet', 'DB_p_test_ConvNet'])\n"
     ]
    }
   ],
   "source": [
    "SAMPLE_DS_PATH = \"mg_data/ITER_like_equilibrium_dataset_sample.mat\" # sample dataset\n",
    "FULL_DS_PATH = 'mg_data/ITER_like_equilibrium_dataset.mat' # full dataset\n",
    "sample_ds_mat = sio.loadmat(SAMPLE_DS_PATH)\n",
    "full_ds_mat = sio.loadmat(FULL_DS_PATH)\n",
    "print(f\"sample_ds_mat keys: {sample_ds_mat.keys()}\")"
   ]
  },
  {
   "cell_type": "markdown",
   "metadata": {},
   "source": [
    "- mean current: -10183.76, std current: 34209.11\n",
    "- mean magnetic: -0.20, std magnetic: 0.58\n",
    "- mean f_profile: 33.13, std f_profile: 0.28\n",
    "- mean p_profile: 9654.42, std p_profile: 8788.29"
   ]
  },
  {
   "cell_type": "code",
   "execution_count": 6,
   "metadata": {},
   "outputs": [],
   "source": [
    "class PlaNetDataset(Dataset):\n",
    "    def __init__(self, ds_mat):\n",
    "        # output: magnetic flux, transposed (matlab is column-major)\n",
    "        self.psi = to_tensor(ds_mat[\"DB_psi_pixel_test_ConvNet\"].transpose(0, 2, 1)) # (n, 64, 64)\n",
    "        # inputs: radial and vertical position of pixels (for plotting only rn) + currents + measurements + profiles \n",
    "        self.rr_pix = ds_mat[\"RR_pixels\"] # radial position of pixels (64, 64)\n",
    "        self.zz_pix = ds_mat[\"ZZ_pixels\"] # vertical position of pixels (64, 64)\n",
    "        self.currs = ds_mat[\"DB_coils_curr_test_ConvNet\"] # input currents (n, 14)\n",
    "        self.magn_meas = ds_mat[\"DB_meas_Bpickup_test_ConvNet\"] # input magnetic measurements (n, 187)\n",
    "        self.f_profile = ds_mat[\"DB_f_test_ConvNet\"] # input profiles (n, 101)\n",
    "        self.p_profile = ds_mat[\"DB_p_test_ConvNet\"] # input profiles (n, 101)\n",
    "        inputs = [] # add the normalized inputs to the list\n",
    "        if USE_CURRENTS: inputs.append((to_tensor(self.currs)+10183)/34209) # (n, 14)\n",
    "        if USE_MAGNETIC: inputs.append((to_tensor(self.magn_meas)+0.2)/0.58) # (n, 187)\n",
    "        if USE_PROFILES: inputs.append(torch.cat(((to_tensor(self.f_profile)-33.13)/0.28, (to_tensor(self.p_profile)-9654)/8788), 1)) # (n, 202)\n",
    "        self.inputs = torch.cat(inputs, 1) # (n, 403)\n",
    "    def __len__(self): return len(self.psi)\n",
    "    def __getitem__(self, idx): return self.inputs[idx], self.psi[idx]"
   ]
  },
  {
   "cell_type": "code",
   "execution_count": 7,
   "metadata": {},
   "outputs": [
    {
     "name": "stdout",
     "output_type": "stream",
     "text": [
      "Dataset length: 500\n",
      "Input shape: torch.Size([201])\n",
      "Output shape: torch.Size([64, 64])\n"
     ]
    }
   ],
   "source": [
    "# test dataset\n",
    "ds = PlaNetDataset(sample_ds_mat)\n",
    "print(f\"Dataset length: {len(ds)}\")\n",
    "print(f\"Input shape: {ds[0][0].shape}\")\n",
    "print(f\"Output shape: {ds[0][1].shape}\")"
   ]
  },
  {
   "cell_type": "code",
   "execution_count": 8,
   "metadata": {},
   "outputs": [],
   "source": [
    "# class PlaNet(nn.Module): # simple fully connected neural network > weak > loss:33 > converges to a constant\n",
    "#     def __init__(self):\n",
    "#         super(PlaNet, self).__init__()\n",
    "#         self.n = 8\n",
    "#         self.fc1 = nn.Linear(INPUT_SIZE, self.n)\n",
    "#         self.fc2 = nn.Linear(self.n, self.n)\n",
    "#         self.fc3 = nn.Linear(self.n, 64*64)\n",
    "#     def forward(self, x):\n",
    "#         x = torch.relu(self.fc1(x))\n",
    "#         x = torch.relu(self.fc2(x))\n",
    "#         x = self.fc3(x)\n",
    "#         x = x.view(-1, 64, 64)\n",
    "#         return x"
   ]
  },
  {
   "cell_type": "code",
   "execution_count": 9,
   "metadata": {},
   "outputs": [],
   "source": [
    "# class PlaNet(nn.Module): # transpose convolutional neural network > stronger, fast, but artifacts\n",
    "#     def __init__(self):\n",
    "#         super(PlaNet, self).__init__()\n",
    "#         self.n = n = 4\n",
    "#         self.fc = nn.Sequential(\n",
    "#             nn.Linear(INPUT_SIZE, 8*n),\n",
    "#             nn.ReLU(),\n",
    "#             nn.Linear(8*n, 16*n),\n",
    "#             nn.ReLU(),\n",
    "#         )\n",
    "#         self.unconv = nn.Sequential(\n",
    "#             nn.ConvTranspose2d(16*n, 8*n, kernel_size=3),\n",
    "#             nn.ReLU(),\n",
    "#             nn.BatchNorm2d(8*n), # batch normalization\n",
    "#             nn.ConvTranspose2d(8*n, 4*n, kernel_size=3, stride=2),\n",
    "#             nn.ReLU(),\n",
    "#             nn.ConvTranspose2d(4*n, 2*n, kernel_size=3, stride=2),\n",
    "#             nn.ReLU(),\n",
    "#             nn.ConvTranspose2d(2*n, n, kernel_size=3, stride=2),\n",
    "#             nn.ReLU(),\n",
    "#             nn.ConvTranspose2d(n, 1, kernel_size=4, stride=2),\n",
    "#         )\n",
    "#     def forward(self, x):\n",
    "#         x = self.fc(x)\n",
    "#         x = x.view(-1, 16*self.n, 1, 1)\n",
    "#         x = self.unconv(x)\n",
    "#         x = x.view(-1, 64, 64)\n",
    "#         return x"
   ]
  },
  {
   "cell_type": "code",
   "execution_count": 10,
   "metadata": {},
   "outputs": [],
   "source": [
    "class PlaNet(nn.Module): # upsample convolutional neural network > slower > but smoother\n",
    "    def __init__(self):\n",
    "        super(PlaNet, self).__init__()\n",
    "        self.interp = 'bilinear' # 'nearest' or 'bilinear'\n",
    "        self.n = n = 2\n",
    "        self.fc = nn.Sequential(\n",
    "            nn.Linear(INPUT_SIZE, 8*n),\n",
    "            nn.ReLU(),\n",
    "            nn.Linear(8*n, 16*n),\n",
    "            nn.ReLU(),\n",
    "        )\n",
    "        self.unconv = nn.Sequential(\n",
    "            nn.Upsample(scale_factor=4, mode=self.interp),\n",
    "            nn.Conv2d(16*n, 8*n, kernel_size=3, padding=1),\n",
    "            nn.ReLU(),\n",
    "            nn.BatchNorm2d(8*n), # batch normalization\n",
    "            nn.Upsample(scale_factor=2, mode=self.interp),\n",
    "            nn.Conv2d(8*n, 4*n, kernel_size=3, padding=1),\n",
    "            nn.ReLU(),\n",
    "            nn.Upsample(scale_factor=2, mode=self.interp),\n",
    "            nn.Conv2d(4*n, 2*n, kernel_size=3, padding=1),\n",
    "            nn.ReLU(),\n",
    "            nn.Upsample(scale_factor=2, mode=self.interp),\n",
    "            nn.Conv2d(2*n, n, kernel_size=3, padding=1),\n",
    "            nn.ReLU(),\n",
    "            nn.Upsample(scale_factor=2, mode=self.interp),\n",
    "            nn.Conv2d(n, 1, kernel_size=3, padding=1),\n",
    "        )\n",
    "    def forward(self, x):\n",
    "        x = self.fc(x)\n",
    "        x = x.view(-1, 16*self.n, 1, 1)\n",
    "        x = self.unconv(x)\n",
    "        x = x.view(-1, 64, 64)\n",
    "        return x"
   ]
  },
  {
   "cell_type": "code",
   "execution_count": 11,
   "metadata": {},
   "outputs": [
    {
     "name": "stdout",
     "output_type": "stream",
     "text": [
      "Input shape: torch.Size([1, 201])\n",
      "Output shape: torch.Size([1, 64, 64])\n"
     ]
    }
   ],
   "source": [
    "# test model\n",
    "model = PlaNet()\n",
    "x = torch.randn(1, INPUT_SIZE)\n",
    "print(f\"Input shape: {x.shape}\")\n",
    "y = model(x)\n",
    "print(f\"Output shape: {y.shape}\")"
   ]
  },
  {
   "cell_type": "code",
   "execution_count": null,
   "metadata": {},
   "outputs": [],
   "source": [
    "N = 6\n",
    "A = np.zeros((N, N))\n",
    "for n in range(N):\n",
    "    for k in range(N):\n",
    "        if n > k: A[n,k] = (2*n+1)**0.5 * (2*k+1)**0.5\n",
    "        if n == k: A[n,k] = n+1\n",
    "        if n < k: A[n,k] = 0"
   ]
  },
  {
   "cell_type": "code",
   "execution_count": 19,
   "metadata": {},
   "outputs": [
    {
     "name": "stdout",
     "output_type": "stream",
     "text": [
      "tRRconv shape: torch.Size([1, 1, 62, 62])\n",
      "tLaplace_kernel shape: torch.Size([1, 1, 3, 3])\n",
      "tDf_dr_kernel shape: torch.Size([1, 1, 3, 3])\n",
      "tGaussian_kernel shape: torch.Size([1, 1, 5, 5])\n"
     ]
    }
   ],
   "source": [
    "# Grad-Shafranov Operator Loss (PINN)\n",
    "μ0 = 4*np.pi*1e-7\n",
    "RRpix, ZZpix = sample_ds_mat[\"RR_pixels\"], sample_ds_mat[\"ZZ_pixels\"]\n",
    "hr, hz = RRpix[0, 1] - RRpix[0, 0], ZZpix[1, 0] - ZZpix[0, 0]\n",
    "RRin, ZZin = RRpix[1:-1,1:-1], ZZpix[1:-1,1:-1]\n",
    "### Filters for GS equation\n",
    "kr = np.array(([0, 0, 0], [1, -2, 1], [0, 0, 0]))*hz**2\n",
    "kz = np.transpose(np.array(([0, 0, 0], [1, -2, 1], [0, 0, 0])))*hr**2\n",
    "alfa = -2*(hr**2 + hz**2)\n",
    "Laplace_kernel = np.array(([0, hr**2/alfa, 0], [hz**2/alfa, 1, hz**2/alfa], [0, hr**2/alfa, 0]))\n",
    "Df_dr_kernel = np.array(([0, 0, 0], [+1, 0, -1], [0, 0, 0]))/(2*hr*alfa)*(hr**2*hz**2)\n",
    "# Gaussian filter to slightly denoise output\n",
    "# Gaussian_kernel = np.array(([1,2,1], [2,4,2], [1,2,1]))/16\n",
    "Gaussian_kernel = np.array(([1,4,7,4,1],[4,16,26,16,4],[7,26,41,26,7],[4,16,26,16,4],[1,4,7,4,1]))/273\n",
    "#convert to tensors\n",
    "tRRconv = to_tensor(RRin).unsqueeze(0).unsqueeze(0)\n",
    "tLaplace_kernel = to_tensor(Laplace_kernel[::-1,::-1].copy()).unsqueeze(0).unsqueeze(0)\n",
    "tDf_dr_kernel = to_tensor(Df_dr_kernel[::-1,::-1].copy()).unsqueeze(0).unsqueeze(0)\n",
    "tGaussian_kernel = to_tensor(Gaussian_kernel[::-1,::-1].copy()).unsqueeze(0).unsqueeze(0)\n",
    "\n",
    "# def fun_GSoperator_NN_conv_batch(f):\n",
    "#     Lpsi = F.conv2d(f, tLaplace_kernel)\n",
    "#     Dpsi_dr = F.conv2d(f, tDf_dr_kernel)\n",
    "#     Dpsi_dr = Dpsi_dr / tRRconv\n",
    "#     return (Lpsi[:,:,:,0] - Dpsi_dr[:,:,:,0])*alfa / (hr**2 * hz**2) # GS operator\n",
    "\n",
    "# def fun_GSoperator_NN_conv_smooth_batch(f):\n",
    "#     Lpsi = F.conv2d(f, tLaplace_kernel)\n",
    "#     print(f\"Lpsi shape: {Lpsi.shape}\")\n",
    "#     Dpsi_dr = F.conv2d(f, tDf_dr_kernel)\n",
    "#     print(f\"Dpsi_dr shape: {Dpsi_dr.shape}\")\n",
    "#     Dpsi_dr = Dpsi_dr / tRRconv\n",
    "#     print(f\"Dpsi_dr shape: {Dpsi_dr.shape}\")\n",
    "#     GS_ope = (Lpsi - Dpsi_dr) * alfa / (hr**2 * hz**2)\n",
    "#     # GS_ope = F.conv2d(GS_ope, tGaussian_kernel, padding='same')\n",
    "#     GS_ope = torch.squeeze(GS_ope, dim=-1)\n",
    "#     return GS_ope\n",
    "\n",
    "def fun_GSoperator_conv_batch(f):\n",
    "    Lpsi = F.conv2d(f, tLaplace_kernel)\n",
    "    Dpsi_dr = F.conv2d(f, tDf_dr_kernel)\n",
    "    Dpsi_dr = Dpsi_dr / tRRconv\n",
    "    GS_ope = (Lpsi[:, :, :, 0] - Dpsi_dr[:, :, :, 0]) * alfa / (hr**2 * hz**2)\n",
    "    jphi = -GS_ope / (μ0 * RRin)\n",
    "    return GS_ope, jphi\n",
    "\n",
    "print(f\"tRRconv shape: {tRRconv.shape}\")\n",
    "print(f\"tLaplace_kernel shape: {tLaplace_kernel.shape}\")\n",
    "print(f\"tDf_dr_kernel shape: {tDf_dr_kernel.shape}\")\n",
    "print(f\"tGaussian_kernel shape: {tGaussian_kernel.shape}\")"
   ]
  },
  {
   "cell_type": "code",
   "execution_count": 21,
   "metadata": {},
   "outputs": [
    {
     "name": "stdout",
     "output_type": "stream",
     "text": [
      "psi shape: (64, 64)\n",
      "gs_gt shape: (64, 64)\n",
      "gs_calc shape: torch.Size([62])\n"
     ]
    },
    {
     "ename": "TypeError",
     "evalue": "Invalid shape (62,) for image data",
     "output_type": "error",
     "traceback": [
      "\u001b[0;31m---------------------------------------------------------------------------\u001b[0m",
      "\u001b[0;31mTypeError\u001b[0m                                 Traceback (most recent call last)",
      "Cell \u001b[0;32mIn[21], line 17\u001b[0m\n\u001b[1;32m     15\u001b[0m ax[\u001b[38;5;241m0\u001b[39m]\u001b[38;5;241m.\u001b[39mset_title(\u001b[38;5;124m\"\u001b[39m\u001b[38;5;124mGS Operator Ground Truth\u001b[39m\u001b[38;5;124m\"\u001b[39m)\n\u001b[1;32m     16\u001b[0m \u001b[38;5;66;03m# plot the calculated GS operator\u001b[39;00m\n\u001b[0;32m---> 17\u001b[0m \u001b[43max\u001b[49m\u001b[43m[\u001b[49m\u001b[38;5;241;43m1\u001b[39;49m\u001b[43m]\u001b[49m\u001b[38;5;241;43m.\u001b[39;49m\u001b[43mimshow\u001b[49m\u001b[43m(\u001b[49m\u001b[43mgs_calc\u001b[49m\u001b[43m,\u001b[49m\u001b[43m \u001b[49m\u001b[43mcmap\u001b[49m\u001b[38;5;241;43m=\u001b[39;49m\u001b[38;5;124;43m'\u001b[39;49m\u001b[38;5;124;43minferno\u001b[39;49m\u001b[38;5;124;43m'\u001b[39;49m\u001b[43m)\u001b[49m\n\u001b[1;32m     18\u001b[0m ax[\u001b[38;5;241m1\u001b[39m]\u001b[38;5;241m.\u001b[39mset_title(\u001b[38;5;124m\"\u001b[39m\u001b[38;5;124mGS Operator Calculated\u001b[39m\u001b[38;5;124m\"\u001b[39m)\n\u001b[1;32m     19\u001b[0m \u001b[38;5;66;03m#plot psi\u001b[39;00m\n",
      "File \u001b[0;32m~/ml/lib/python3.12/site-packages/matplotlib/__init__.py:1473\u001b[0m, in \u001b[0;36m_preprocess_data.<locals>.inner\u001b[0;34m(ax, data, *args, **kwargs)\u001b[0m\n\u001b[1;32m   1470\u001b[0m \u001b[38;5;129m@functools\u001b[39m\u001b[38;5;241m.\u001b[39mwraps(func)\n\u001b[1;32m   1471\u001b[0m \u001b[38;5;28;01mdef\u001b[39;00m \u001b[38;5;21minner\u001b[39m(ax, \u001b[38;5;241m*\u001b[39margs, data\u001b[38;5;241m=\u001b[39m\u001b[38;5;28;01mNone\u001b[39;00m, \u001b[38;5;241m*\u001b[39m\u001b[38;5;241m*\u001b[39mkwargs):\n\u001b[1;32m   1472\u001b[0m     \u001b[38;5;28;01mif\u001b[39;00m data \u001b[38;5;129;01mis\u001b[39;00m \u001b[38;5;28;01mNone\u001b[39;00m:\n\u001b[0;32m-> 1473\u001b[0m         \u001b[38;5;28;01mreturn\u001b[39;00m \u001b[43mfunc\u001b[49m\u001b[43m(\u001b[49m\n\u001b[1;32m   1474\u001b[0m \u001b[43m            \u001b[49m\u001b[43max\u001b[49m\u001b[43m,\u001b[49m\n\u001b[1;32m   1475\u001b[0m \u001b[43m            \u001b[49m\u001b[38;5;241;43m*\u001b[39;49m\u001b[38;5;28;43mmap\u001b[39;49m\u001b[43m(\u001b[49m\u001b[43msanitize_sequence\u001b[49m\u001b[43m,\u001b[49m\u001b[43m \u001b[49m\u001b[43margs\u001b[49m\u001b[43m)\u001b[49m\u001b[43m,\u001b[49m\n\u001b[1;32m   1476\u001b[0m \u001b[43m            \u001b[49m\u001b[38;5;241;43m*\u001b[39;49m\u001b[38;5;241;43m*\u001b[39;49m\u001b[43m{\u001b[49m\u001b[43mk\u001b[49m\u001b[43m:\u001b[49m\u001b[43m \u001b[49m\u001b[43msanitize_sequence\u001b[49m\u001b[43m(\u001b[49m\u001b[43mv\u001b[49m\u001b[43m)\u001b[49m\u001b[43m \u001b[49m\u001b[38;5;28;43;01mfor\u001b[39;49;00m\u001b[43m \u001b[49m\u001b[43mk\u001b[49m\u001b[43m,\u001b[49m\u001b[43m \u001b[49m\u001b[43mv\u001b[49m\u001b[43m \u001b[49m\u001b[38;5;129;43;01min\u001b[39;49;00m\u001b[43m \u001b[49m\u001b[43mkwargs\u001b[49m\u001b[38;5;241;43m.\u001b[39;49m\u001b[43mitems\u001b[49m\u001b[43m(\u001b[49m\u001b[43m)\u001b[49m\u001b[43m}\u001b[49m\u001b[43m)\u001b[49m\n\u001b[1;32m   1478\u001b[0m     bound \u001b[38;5;241m=\u001b[39m new_sig\u001b[38;5;241m.\u001b[39mbind(ax, \u001b[38;5;241m*\u001b[39margs, \u001b[38;5;241m*\u001b[39m\u001b[38;5;241m*\u001b[39mkwargs)\n\u001b[1;32m   1479\u001b[0m     auto_label \u001b[38;5;241m=\u001b[39m (bound\u001b[38;5;241m.\u001b[39marguments\u001b[38;5;241m.\u001b[39mget(label_namer)\n\u001b[1;32m   1480\u001b[0m                   \u001b[38;5;129;01mor\u001b[39;00m bound\u001b[38;5;241m.\u001b[39mkwargs\u001b[38;5;241m.\u001b[39mget(label_namer))\n",
      "File \u001b[0;32m~/ml/lib/python3.12/site-packages/matplotlib/axes/_axes.py:5895\u001b[0m, in \u001b[0;36mAxes.imshow\u001b[0;34m(self, X, cmap, norm, aspect, interpolation, alpha, vmin, vmax, origin, extent, interpolation_stage, filternorm, filterrad, resample, url, **kwargs)\u001b[0m\n\u001b[1;32m   5892\u001b[0m \u001b[38;5;28;01mif\u001b[39;00m aspect \u001b[38;5;129;01mis\u001b[39;00m \u001b[38;5;129;01mnot\u001b[39;00m \u001b[38;5;28;01mNone\u001b[39;00m:\n\u001b[1;32m   5893\u001b[0m     \u001b[38;5;28mself\u001b[39m\u001b[38;5;241m.\u001b[39mset_aspect(aspect)\n\u001b[0;32m-> 5895\u001b[0m \u001b[43mim\u001b[49m\u001b[38;5;241;43m.\u001b[39;49m\u001b[43mset_data\u001b[49m\u001b[43m(\u001b[49m\u001b[43mX\u001b[49m\u001b[43m)\u001b[49m\n\u001b[1;32m   5896\u001b[0m im\u001b[38;5;241m.\u001b[39mset_alpha(alpha)\n\u001b[1;32m   5897\u001b[0m \u001b[38;5;28;01mif\u001b[39;00m im\u001b[38;5;241m.\u001b[39mget_clip_path() \u001b[38;5;129;01mis\u001b[39;00m \u001b[38;5;28;01mNone\u001b[39;00m:\n\u001b[1;32m   5898\u001b[0m     \u001b[38;5;66;03m# image does not already have clipping set, clip to Axes patch\u001b[39;00m\n",
      "File \u001b[0;32m~/ml/lib/python3.12/site-packages/matplotlib/image.py:729\u001b[0m, in \u001b[0;36m_ImageBase.set_data\u001b[0;34m(self, A)\u001b[0m\n\u001b[1;32m    727\u001b[0m \u001b[38;5;28;01mif\u001b[39;00m \u001b[38;5;28misinstance\u001b[39m(A, PIL\u001b[38;5;241m.\u001b[39mImage\u001b[38;5;241m.\u001b[39mImage):\n\u001b[1;32m    728\u001b[0m     A \u001b[38;5;241m=\u001b[39m pil_to_array(A)  \u001b[38;5;66;03m# Needed e.g. to apply png palette.\u001b[39;00m\n\u001b[0;32m--> 729\u001b[0m \u001b[38;5;28mself\u001b[39m\u001b[38;5;241m.\u001b[39m_A \u001b[38;5;241m=\u001b[39m \u001b[38;5;28;43mself\u001b[39;49m\u001b[38;5;241;43m.\u001b[39;49m\u001b[43m_normalize_image_array\u001b[49m\u001b[43m(\u001b[49m\u001b[43mA\u001b[49m\u001b[43m)\u001b[49m\n\u001b[1;32m    730\u001b[0m \u001b[38;5;28mself\u001b[39m\u001b[38;5;241m.\u001b[39m_imcache \u001b[38;5;241m=\u001b[39m \u001b[38;5;28;01mNone\u001b[39;00m\n\u001b[1;32m    731\u001b[0m \u001b[38;5;28mself\u001b[39m\u001b[38;5;241m.\u001b[39mstale \u001b[38;5;241m=\u001b[39m \u001b[38;5;28;01mTrue\u001b[39;00m\n",
      "File \u001b[0;32m~/ml/lib/python3.12/site-packages/matplotlib/image.py:697\u001b[0m, in \u001b[0;36m_ImageBase._normalize_image_array\u001b[0;34m(A)\u001b[0m\n\u001b[1;32m    695\u001b[0m     A \u001b[38;5;241m=\u001b[39m A\u001b[38;5;241m.\u001b[39msqueeze(\u001b[38;5;241m-\u001b[39m\u001b[38;5;241m1\u001b[39m)  \u001b[38;5;66;03m# If just (M, N, 1), assume scalar and apply colormap.\u001b[39;00m\n\u001b[1;32m    696\u001b[0m \u001b[38;5;28;01mif\u001b[39;00m \u001b[38;5;129;01mnot\u001b[39;00m (A\u001b[38;5;241m.\u001b[39mndim \u001b[38;5;241m==\u001b[39m \u001b[38;5;241m2\u001b[39m \u001b[38;5;129;01mor\u001b[39;00m A\u001b[38;5;241m.\u001b[39mndim \u001b[38;5;241m==\u001b[39m \u001b[38;5;241m3\u001b[39m \u001b[38;5;129;01mand\u001b[39;00m A\u001b[38;5;241m.\u001b[39mshape[\u001b[38;5;241m-\u001b[39m\u001b[38;5;241m1\u001b[39m] \u001b[38;5;129;01min\u001b[39;00m [\u001b[38;5;241m3\u001b[39m, \u001b[38;5;241m4\u001b[39m]):\n\u001b[0;32m--> 697\u001b[0m     \u001b[38;5;28;01mraise\u001b[39;00m \u001b[38;5;167;01mTypeError\u001b[39;00m(\u001b[38;5;124mf\u001b[39m\u001b[38;5;124m\"\u001b[39m\u001b[38;5;124mInvalid shape \u001b[39m\u001b[38;5;132;01m{\u001b[39;00mA\u001b[38;5;241m.\u001b[39mshape\u001b[38;5;132;01m}\u001b[39;00m\u001b[38;5;124m for image data\u001b[39m\u001b[38;5;124m\"\u001b[39m)\n\u001b[1;32m    698\u001b[0m \u001b[38;5;28;01mif\u001b[39;00m A\u001b[38;5;241m.\u001b[39mndim \u001b[38;5;241m==\u001b[39m \u001b[38;5;241m3\u001b[39m:\n\u001b[1;32m    699\u001b[0m     \u001b[38;5;66;03m# If the input data has values outside the valid range (after\u001b[39;00m\n\u001b[1;32m    700\u001b[0m     \u001b[38;5;66;03m# normalisation), we issue a warning and then clip X to the bounds\u001b[39;00m\n\u001b[1;32m    701\u001b[0m     \u001b[38;5;66;03m# - otherwise casting wraps extreme values, hiding outliers and\u001b[39;00m\n\u001b[1;32m    702\u001b[0m     \u001b[38;5;66;03m# making reliable interpretation impossible.\u001b[39;00m\n\u001b[1;32m    703\u001b[0m     high \u001b[38;5;241m=\u001b[39m \u001b[38;5;241m255\u001b[39m \u001b[38;5;28;01mif\u001b[39;00m np\u001b[38;5;241m.\u001b[39missubdtype(A\u001b[38;5;241m.\u001b[39mdtype, np\u001b[38;5;241m.\u001b[39minteger) \u001b[38;5;28;01melse\u001b[39;00m \u001b[38;5;241m1\u001b[39m\n",
      "\u001b[0;31mTypeError\u001b[0m: Invalid shape (62,) for image data"
     ]
    },
    {
     "data": {
      "image/png": "[encoded data removed]",
      "text/plain": [
       "<Figure size 2000x1000 with 3 Axes>"
      ]
     },
     "metadata": {},
     "output_type": "display_data"
    }
   ],
   "source": [
    "# test GS operator\n",
    "idx = 10\n",
    "gs_gt = sample_ds_mat[\"DB_res_RHS_pixel_test_ConvNet\"][idx].transpose()\n",
    "psi = sample_ds_mat[\"DB_psi_pixel_test_ConvNet\"][idx].transpose()\n",
    "print(f\"psi shape: {psi.shape}\")\n",
    "# gs_calc = fun_GSoperator_NN_conv_smooth_batch(to_tensor(psi).unsqueeze(0).unsqueeze(0)).squeeze()\n",
    "gs_calc = fun_GSoperator_conv_batch(to_tensor(psi).unsqueeze(0).unsqueeze(0))[0].squeeze()\n",
    "\n",
    "print(f\"gs_gt shape: {gs_gt.shape}\")\n",
    "print(f\"gs_calc shape: {gs_calc.shape}\")\n",
    "\n",
    "#plot the GS operator\n",
    "fig, ax = plt.subplots(1, 3, figsize=(20, 10))\n",
    "ax[0].imshow(-gs_gt, cmap='inferno')\n",
    "ax[0].set_title(\"GS Operator Ground Truth\")\n",
    "# plot the calculated GS operator\n",
    "ax[1].imshow(gs_calc, cmap='inferno')\n",
    "ax[1].set_title(\"GS Operator Calculated\")\n",
    "#plot psi\n",
    "ax[2].imshow(psi, cmap='inferno')\n",
    "ax[2].set_title(\"Psi Ground Truth\");"
   ]
  },
  {
   "cell_type": "code",
   "execution_count": null,
   "metadata": {},
   "outputs": [],
   "source": [
    "filter = torch.randn(1, 1, 3, 3)\n",
    "input = torch.randn(1, 1, 64, 64)\n",
    "output = F.conv2d(input, filter)\n",
    "print(output.shape)"
   ]
  },
  {
   "cell_type": "markdown",
   "metadata": {},
   "source": [
    "## Training"
   ]
  },
  {
   "cell_type": "code",
   "execution_count": null,
   "metadata": {},
   "outputs": [],
   "source": [
    "train_ds, val_ds = PlaNetDataset(full_ds_mat), PlaNetDataset(sample_ds_mat) # initialize datasets\n",
    "train_dl = DataLoader(train_ds, batch_size=BATCH_SIZE, shuffle=True) # initialize DataLoader\n",
    "val_dl = DataLoader(val_ds, batch_size=BATCH_SIZE, shuffle=False)  \n",
    "model = PlaNet()  # instantiate model\n",
    "model.to(device) # move model to device\n",
    "optimizer = torch.optim.Adam(model.parameters(), lr=LEARNING_RATE)\n",
    "loss_fn = nn.MSELoss() # Mean Squared Error Loss\n",
    "best_loss = float('inf') # initialize best loss\n",
    "for epoch in range(EPOCHS): \n",
    "    epoch_time = time()\n",
    "    model.train()\n",
    "    trainloss, evalloss = [], []\n",
    "    # for input_currs, psi in tqdm(train_dl, desc=f\"Epoch {epoch+1}/{EPOCHS}\", leave=False):\n",
    "    for input_currs, psi in train_dl:\n",
    "        input_currs, psi = input_currs.to(device), psi.to(device) # move to device\n",
    "        optimizer.zero_grad()\n",
    "        psi_pred = model(input_currs)\n",
    "        loss = loss_fn(psi_pred, psi)\n",
    "        loss.backward()\n",
    "        optimizer.step()\n",
    "        trainloss.append(loss.item())\n",
    "    model.eval()\n",
    "    with torch.no_grad():\n",
    "        for input_currs, psi in val_dl:\n",
    "            input_currs, psi = input_currs.to(device), psi.to(device) # move to device\n",
    "            psi_pred = model(input_currs)\n",
    "            loss = loss_fn(psi_pred, psi)\n",
    "            evalloss.append(loss.item())\n",
    "    print(f\"Ep {epoch+1}: Train Loss: {sum(trainloss)/len(trainloss):.4f}, Eval Loss: {sum(evalloss)/len(evalloss):.4f}, Time: {time()-epoch_time:.2f}s,\", end=\" \")\n",
    "    if sum(evalloss)/len(evalloss) < best_loss:\n",
    "        best_loss = sum(evalloss)/len(evalloss)\n",
    "        torch.save(model.state_dict(), MODEL_SAVE_PATH)\n",
    "        print(\"new best\")\n",
    "    else: print()"
   ]
  },
  {
   "cell_type": "code",
   "execution_count": null,
   "metadata": {},
   "outputs": [],
   "source": [
    "model = PlaNet()\n",
    "model.load_state_dict(torch.load(MODEL_SAVE_PATH))\n",
    "model.eval()\n",
    "ds = PlaNetDataset(sample_ds_mat)\n",
    "# ds = PlaNetDataset(full_ds_mat)\n",
    "for i in np.random.randint(0, len(ds), 10):  \n",
    "    input_currs, psi = ds[i]\n",
    "    psi_pred = model(input_currs.unsqueeze(0))\n",
    "    psi_pred = psi_pred.detach().numpy().reshape(64, 64)\n",
    "    psi = psi.detach().numpy().reshape(64, 64)\n",
    "    fig, axs = plt.subplots(1, 5, figsize=(15, 5))\n",
    "    ext = [ds.rr_pix.min(), ds.rr_pix.max(), ds.zz_pix.min(), ds.zz_pix.max()]\n",
    "    rr, zz = ds.rr_pix, ds.zz_pix  # radial and vertical positions of pixels\n",
    "    bmin, bmax = np.min([psi, psi_pred]), np.max([psi, psi_pred])\n",
    "    err = np.abs(psi - psi_pred)*100/abs(bmax - bmin)\n",
    "    # err = np.abs(psi - psi_pred)*100/abs((psi + psi_pred)/2)\n",
    "    err_mse = (psi - psi_pred)**2\n",
    "\n",
    "    im0 = axs[0].imshow(psi, extent=ext, vmin=bmin, vmax=bmax)\n",
    "    axs[0].set_title(\"Actual\")\n",
    "    axs[0].set_aspect('equal')\n",
    "    fig.colorbar(im0, ax=axs[0]) \n",
    "\n",
    "    im1 = axs[1].imshow(psi_pred, extent=ext, vmin=bmin, vmax=bmax)\n",
    "    axs[1].set_title(\"Predicted\")\n",
    "    axs[1].set_aspect('equal')\n",
    "    fig.colorbar(im1, ax=axs[1])\n",
    "\n",
    "    im2 = axs[2].imshow(err, extent=ext, vmin=0, vmax=5)\n",
    "    axs[2].set_title(\"Error\")\n",
    "    axs[2].set_aspect('equal')\n",
    "    fig.colorbar(im2, ax=axs[2])\n",
    "\n",
    "    im3 = axs[3].imshow(err_mse, extent=ext, vmin=0, vmax=0.5)\n",
    "    axs[3].set_title(\"MSE\")\n",
    "    axs[3].set_aspect('equal')\n",
    "    fig.colorbar(im3, ax=axs[3])\n",
    "\n",
    "    c0 = axs[4].contour(rr, zz, psi, levels=15, cmap='viridis', linestyles='dashed')\n",
    "    c1 = axs[4].contour(rr, zz, psi_pred, levels=10, cmap='viridis')\n",
    "    axs[4].set_title(\"Contours\")\n",
    "    axs[4].set_aspect('equal')\n",
    "\n",
    "    plt.tight_layout()\n",
    "    plt.show()"
   ]
  }
 ],
 "metadata": {
  "kernelspec": {
   "display_name": "ml",
   "language": "python",
   "name": "python3"
  },
  "language_info": {
   "codemirror_mode": {
    "name": "ipython",
    "version": 3
   },
   "file_extension": ".py",
   "mimetype": "text/x-python",
   "name": "python",
   "nbconvert_exporter": "python",
   "pygments_lexer": "ipython3",
   "version": "3.12.6"
  }
 },
 "nbformat": 4,
 "nbformat_minor": 2
}
