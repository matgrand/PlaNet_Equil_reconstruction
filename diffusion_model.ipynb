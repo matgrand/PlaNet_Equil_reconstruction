{
 "cells": [
  {
   "cell_type": "markdown",
   "metadata": {
    "id": "HhIgGq3za0yh"
   },
   "source": [
    "# A Diffusion Model from Scratch in Pytorch\n",
    "\n",
    "In this notebook I want to build a very simple (as few code as possible) Diffusion Model for generating car images. I will explain all the theoretical details in the YouTube video.\n",
    "\n",
    "\n",
    "**Sources:**\n",
    "- Github implementation [Denoising Diffusion Pytorch](https://github.com/lucidrains/denoising-diffusion-pytorch)\n",
    "- Niels Rogge, Kashif Rasul, [Huggingface notebook](https://colab.research.google.com/github/huggingface/notebooks/blob/main/examples/annotated_diffusion.ipynb#scrollTo=3a159023)\n",
    "- Papers on Diffusion models ([Dhariwal, Nichol, 2021], [Ho et al., 2020] ect.)\n"
   ]
  },
  {
   "cell_type": "markdown",
   "metadata": {
    "id": "wLHSIArLcFK0"
   },
   "source": [
    "## Investigating the dataset\n",
    "\n",
    "As dataset we use the StandordCars Dataset, which consists of around 8000 images in the train set. Let's see if this is enough to get good results ;-)"
   ]
  },
  {
   "cell_type": "code",
   "execution_count": null,
   "metadata": {},
   "outputs": [],
   "source": [
    "import torch\n",
    "from torch.utils.data import Dataset, DataLoader\n",
    "import torchvision\n",
    "import scipy.io as sio\n",
    "from time import time, sleep\n",
    "import numpy as np\n",
    "import matplotlib.pyplot as plt\n",
    "import seaborn as sns\n",
    "sns.set_style(\"darkgrid\")  # adds seaborn style to charts, eg. grid\n",
    "plt.style.use(\"dark_background\")  # inverts colors to dark theme\n",
    "plt.rcParams['font.family'] = 'monospace'\n",
    "import os\n",
    "import warnings; warnings.filterwarnings(\"ignore\")\n",
    "from utils import calc_gso_batch # gso/pinn calculation\n",
    "try: \n",
    "    JOBID = os.environ[\"SLURM_JOB_ID\"] # get job id from slurm, when training on cluster\n",
    "    device = torch.device(\"cuda\") if torch.cuda.is_available() else torch.device(\"cpu\") # nvidia\n",
    "    HAS_SCREEN = False # for plotting or saving images\n",
    "except:\n",
    "    device = torch.device(\"mps\") # apple silicon\n",
    "    JOBID = \"local\"\n",
    "    HAS_SCREEN = True\n",
    "os.makedirs(f\"mg_data/{JOBID}\", exist_ok=True)\n",
    "print(f'device: {device}')\n",
    "\n",
    "# copy the python training to the directory (for cluster) (for local, it fails silently)\n",
    "os.system(f\"cp mg_train2.py mg_data/{JOBID}/mg_train2.py\")\n",
    "os.system(f\"cp utils.py mg_data/{JOBID}/utils.py\")\n",
    "\n",
    "def to_tensor(x, device=torch.device(\"cpu\")): return torch.tensor(x, dtype=torch.float32, device=device)\n",
    "\n",
    "PRENAME_MSE, PRENAME_GSO, PRENAME_TOT = \"mg_planet_mse\", \"mg_planet_gso\", \"mg_planet_tot\""
   ]
  },
  {
   "cell_type": "code",
   "execution_count": null,
   "metadata": {},
   "outputs": [],
   "source": [
    "SAVE_DIR = f\"mg_data/{JOBID}\" \n",
    "EPOCHS = 1000 # number of epochs, note: needs to \n",
    "BATCH_SIZE = 128 # 128 best\n",
    "IMG_SIZE = 64\n",
    "\n",
    "LOAD_PRETRAINED = None # Set it to None if you don't want to load pretrained model\n",
    "\n",
    "# LEARNING_RATE = 3e-4*np.linspace(1, 1e-2, EPOCHS)  # best\n",
    "LEARNING_RATE = 3e-4*np.logspace(0, -2, EPOCHS)\n",
    "# LEARNING_RATE = 1e-4*np.logspace(0, -2, EPOCHS)\n",
    "\n",
    "# GSO_LOSS_RATIO = np.linspace(0.4, 0.1, EPOCHS) # best\n",
    "# GSO_LOSS_RATIO = np.linspace(0.3, 0.1, EPOCHS) # best too\n",
    "# GSO_LOSS_RATIO = np.linspace(0.4, 0.0, EPOCHS) # best for big model pretrain start\n",
    "GSO_LOSS_RATIO = np.concatenate((np.linspace(0.4, 0.0, EPOCHS//2), np.linspace(0.0, 0.0, EPOCHS//2))) \n",
    "# GSO_LOSS_RATIO = 0.1*np.ones(EPOCHS) # not very good\n",
    "# GSO_LOSS_RATIO = (0.5+0.5*np.sin(np.linspace(0, 25*np.pi, EPOCHS)))*np.linspace(1, 0.1, EPOCHS) # crazy\n",
    "\n",
    "NCURRS, NPROFS, NMAGS = 14, 202, 187 # input sizes\n",
    "INPUT_SIZE = NCURRS + NPROFS + NMAGS\n",
    "TRAIN_DS_PATH = \"data/train_ds_10000_80_100.mat\" # generated from prepapre_dataset\n",
    "EVAL_DS_PATH = \"data/eval_ds_10000_80_100.mat\""
   ]
  },
  {
   "cell_type": "code",
   "execution_count": null,
   "metadata": {},
   "outputs": [],
   "source": [
    "class PlaNetDataset(Dataset):\n",
    "    def __init__(self, ds_mat_path, transforms=None):\n",
    "        self.transforms = transforms\n",
    "        ds_mat = sio.loadmat(ds_mat_path)\n",
    "        # output: magnetic flux, transposed (matlab is column-major)\n",
    "        self.psi = ds_mat[\"psi\"]\n",
    "        psi_mean, psi_std = np.mean(self.psi), np.std(self.psi) # mean and std for normalization\n",
    "        self.psi = (to_tensor(self.psi)-psi_mean)/(5*psi_std)  # (n, 1, 64, 64) # normalized\n",
    "        self.psi = self.psi.view(-1, 64, 64).cpu().numpy()\n",
    "        self.psi = self.psi*255 + 127.5\n",
    "        self.psi = self.psi.clip(0, 255)\n",
    "        self.psi = self.psi.astype(np.uint8)\n",
    "        # self.psi = to_tensor(ds_mat[\"psi\"]).view(-1, 1, 64, 64)\n",
    "        # inputs: radial and vertical position of pixels (for plotting only rn) + currents + measurements + profiles \n",
    "        self.rr = to_tensor(ds_mat[\"rr\"]).view(-1,1,64,64) # radial position of pixels (64, 64)\n",
    "        self.zz = to_tensor(ds_mat[\"zz\"]).view(-1,1,64,64) # vertical position of pixels (64, 64)\n",
    "        self.currs = ds_mat[\"currs\"] # input currents (n, 14)\n",
    "        self.mags = ds_mat[\"magnetic\"] # input magnetic measurements (n, 187)\n",
    "        f_prof = ds_mat[\"f_profiles\"] # input profiles (n, 101)\n",
    "        p_prof = ds_mat[\"p_profiles\"] # input profiles (n, 101)\n",
    "        # means and stdfs for normalization\n",
    "        currs_mean, currs_std = np.mean(self.currs), np.std(self.currs)\n",
    "        mags_mean, mags_std = np.mean(self.mags), np.std(self.mags)\n",
    "        f_prof_mean, f_prof_std = np.mean(f_prof), np.std(f_prof)\n",
    "        p_prof_mean, p_prof_std = np.mean(p_prof), np.std(p_prof)\n",
    "        # normalize inputs\n",
    "        self.currs = (to_tensor(self.currs)-currs_mean)/currs_std # (n, 14) # normalized\n",
    "        self.mags = (to_tensor(self.mags)-mags_mean)/mags_std # (n, 187) # normalized\n",
    "        self.profs = torch.cat(((to_tensor(f_prof)-f_prof_mean)/f_prof_std, (to_tensor(p_prof)-p_prof_mean)/p_prof_std), dim=1) # (n, 202) # normalized\n",
    "        # move to device (doable bc the dataset is fairly small, check memory usage)\n",
    "        # self.currs, self.mags, self.profs = self.currs.to(device), self.mags.to(device), self.profs.to(device)\n",
    "        # self.psi, self.rr, self.zz = self.psi.to(device), self.rr.to(device), self.zz.to(device)\n",
    "        self.everything = [self.currs, self.mags, self.profs, self.psi, self.rr, self.zz]\n",
    "        # print(f\"Dataset: {len(self)}, memory: {sum([x.element_size()*x.nelement() for x in self.everything])/1024**2:.0f} MB\")\n",
    "    def __len__(self): return len(self.psi)\n",
    "    def __getitem__(self, idx): \n",
    "        x = self.psi[idx]\n",
    "        # x = (x.view(64, 64)).cpu().numpy()\n",
    "        # x = (x+1)*255/2\n",
    "        # x = x.clip(0, 255)\n",
    "        # x = x.astype(np.uint8)\n",
    "        if self.transforms is not None: x = self.transforms(x)\n",
    "        return x"
   ]
  },
  {
   "cell_type": "code",
   "execution_count": null,
   "metadata": {
    "colab": {
     "base_uri": "https://localhost:8080/",
     "height": 727
    },
    "id": "LQnlc27k7Aiw",
    "outputId": "b8125880-d5b1-472a-d746-326c458e233e"
   },
   "outputs": [],
   "source": [
    "def show_images(data, num_samples=20, cols=4):\n",
    "    \"\"\" Plots some samples from the dataset \"\"\"\n",
    "    plt.figure(figsize=(7,7))\n",
    "    for i, img in enumerate(data):\n",
    "        if i == num_samples: break\n",
    "        plt.subplot(int(num_samples/cols) + 1, cols, i + 1)\n",
    "        plt.grid(False)\n",
    "        plt.xticks([])\n",
    "        plt.yticks([])\n",
    "        # plt.imshow(img[0])\n",
    "        plt.imshow(img)\n",
    "\n",
    "data = torchvision.datasets.StanfordCars(root=\"./\", download=False)\n",
    "print(f\"Dataset: {len(data)}\")\n",
    "data = PlaNetDataset(TRAIN_DS_PATH)\n",
    "print(f\"Dataset: {len(data)}\")\n",
    "show_images(data)"
   ]
  },
  {
   "cell_type": "markdown",
   "metadata": {
    "id": "JbwhSujTXucO"
   },
   "source": [
    "Later in this notebook we will do some additional modifications to this dataset, for example make the images smaller, convert them to tensors ect."
   ]
  },
  {
   "cell_type": "markdown",
   "metadata": {
    "id": "ZF7wH4cE_JKY"
   },
   "source": [
    "# Building the Diffusion Model\n"
   ]
  },
  {
   "cell_type": "markdown",
   "metadata": {
    "id": "Rj17psVw7Shg"
   },
   "source": [
    "## Step 1: The forward process = Noise scheduler\n",
    "\n",
    "\n"
   ]
  },
  {
   "cell_type": "markdown",
   "metadata": {
    "id": "hqcoJ8ZlXE1i"
   },
   "source": [
    "We first need to build the inputs for our model, which are more and more noisy images. Instead of doing this sequentially, we can use the closed form provided in the papers to calculate the image for any of the timesteps individually.\n",
    "\n",
    "**Key Takeaways**:\n",
    "- The noise-levels/variances can be pre-computed\n",
    "- There are different types of variance schedules\n",
    "- We can sample each timestep image independently (Sums of Gaussians is also Gaussian)\n",
    "- No model is needed in this forward step"
   ]
  },
  {
   "cell_type": "code",
   "execution_count": null,
   "metadata": {
    "id": "qWw50ui9IZ5q"
   },
   "outputs": [],
   "source": [
    "import torch.nn.functional as F\n",
    "\n",
    "def linear_beta_schedule(timesteps, start=0.0001, end=0.02):\n",
    "    return torch.linspace(start, end, timesteps)\n",
    "\n",
    "def get_index_from_list(vals, t, x_shape):\n",
    "    \"\"\"\n",
    "    Returns a specific index t of a passed list of values vals\n",
    "    while considering the batch dimension.\n",
    "    \"\"\"\n",
    "    batch_size = t.shape[0]\n",
    "    out = vals.gather(-1, t.cpu())\n",
    "    return out.reshape(batch_size, *((1,) * (len(x_shape) - 1))).to(t.device)\n",
    "\n",
    "def forward_diffusion_sample(x_0, t, device=\"cpu\"):\n",
    "    \"\"\"\n",
    "    Takes an image and a timestep as input and\n",
    "    returns the noisy version of it\n",
    "    \"\"\"\n",
    "    noise = torch.randn_like(x_0)\n",
    "    sqrt_alphas_cumprod_t = get_index_from_list(sqrt_alphas_cumprod, t, x_0.shape)\n",
    "    sqrt_one_minus_alphas_cumprod_t = get_index_from_list(\n",
    "        sqrt_one_minus_alphas_cumprod, t, x_0.shape\n",
    "    )\n",
    "    # mean + variance\n",
    "    return sqrt_alphas_cumprod_t.to(device) * x_0.to(device) \\\n",
    "        + sqrt_one_minus_alphas_cumprod_t.to(device) * noise.to(device), noise.to(device)\n",
    "\n",
    "\n",
    "# Define beta schedule\n",
    "T = 300\n",
    "betas = linear_beta_schedule(timesteps=T)\n",
    "\n",
    "# Pre-calculate different terms for closed form\n",
    "alphas = 1. - betas\n",
    "alphas_cumprod = torch.cumprod(alphas, axis=0)\n",
    "alphas_cumprod_prev = F.pad(alphas_cumprod[:-1], (1, 0), value=1.0)\n",
    "sqrt_recip_alphas = torch.sqrt(1.0 / alphas)\n",
    "sqrt_alphas_cumprod = torch.sqrt(alphas_cumprod)\n",
    "sqrt_one_minus_alphas_cumprod = torch.sqrt(1. - alphas_cumprod)\n",
    "posterior_variance = betas * (1. - alphas_cumprod_prev) / (1. - alphas_cumprod)"
   ]
  },
  {
   "cell_type": "markdown",
   "metadata": {
    "id": "Vt6JSKawk7_b"
   },
   "source": [
    "Let's test it on our dataset ..."
   ]
  },
  {
   "cell_type": "code",
   "execution_count": null,
   "metadata": {
    "id": "uuckjpW_k1LN"
   },
   "outputs": [],
   "source": [
    "from torchvision import transforms\n",
    "from torch.utils.data import DataLoader\n",
    "import numpy as np\n",
    "\n",
    "def load_transformed_dataset():\n",
    "    data_transforms = [\n",
    "        transforms.ToTensor(), # Scales data into [0,1]\n",
    "        transforms.Lambda(lambda t: (t * 2) - 1) # Scale between [-1, 1]\n",
    "    ]\n",
    "    data_transform = transforms.Compose(data_transforms)\n",
    "    return PlaNetDataset(TRAIN_DS_PATH, transforms=data_transform)\n",
    "    \n",
    "def show_tensor_image(image):\n",
    "    reverse_transforms = transforms.Compose([\n",
    "        transforms.Lambda(lambda t: (t + 1) / 2),\n",
    "        transforms.Lambda(lambda t: t.permute(1, 2, 0)), # CHW to HWC\n",
    "        transforms.Lambda(lambda t: t * 255.),\n",
    "        transforms.Lambda(lambda t: t.numpy().astype(np.uint8)),\n",
    "        transforms.ToPILImage(),\n",
    "    ])\n",
    "\n",
    "    # Take first image of batch\n",
    "    if len(image.shape) == 4:\n",
    "        image = image[0, :, :, :]\n",
    "    plt.imshow(reverse_transforms(image), cmap=\"plasma\")\n",
    "    plt.axis(\"off\")\n",
    "\n",
    "data = load_transformed_dataset()\n",
    "dataloader = DataLoader(data, batch_size=BATCH_SIZE, shuffle=True, drop_last=True)\n",
    "\n",
    "#print stats about dataloader\n",
    "print(f\"Number of batches: {len(dataloader)}\")"
   ]
  },
  {
   "cell_type": "code",
   "execution_count": null,
   "metadata": {
    "colab": {
     "base_uri": "https://localhost:8080/",
     "height": 116
    },
    "id": "2fUPyJghdoUA",
    "outputId": "0a71ca76-dc54-481f-b845-0409e37d2f68"
   },
   "outputs": [],
   "source": [
    "# Simulate forward diffusion\n",
    "# image = next(iter(dataloader))[0]\n",
    "image = next(iter(dataloader))[0]\n",
    "\n",
    "plt.figure(figsize=(15,2))\n",
    "plt.axis('off')\n",
    "num_images = 12\n",
    "stepsize = int(T/num_images)\n",
    "\n",
    "for idx in range(0, T, stepsize):\n",
    "    t = torch.Tensor([idx]).type(torch.int64)\n",
    "    plt.subplot(1, num_images+1, int(idx/stepsize) + 1)\n",
    "    img, noise = forward_diffusion_sample(image, t)\n",
    "    show_tensor_image(img)"
   ]
  },
  {
   "cell_type": "markdown",
   "metadata": {
    "id": "buW6BaNga-XH"
   },
   "source": [
    "## Step 2: The backward process = U-Net\n",
    "\n"
   ]
  },
  {
   "cell_type": "markdown",
   "metadata": {
    "id": "iYw6u0nJXIWy"
   },
   "source": [
    "For a great introduction to UNets, have a look at this post: https://amaarora.github.io/2020/09/13/unet.html.\n",
    "\n",
    "\n",
    "**Key Takeaways**:\n",
    "- We use a simple form of a UNet for to predict the noise in the image\n",
    "- The input is a noisy image, the ouput the noise in the image\n",
    "- Because the parameters are shared accross time, we need to tell the network in which timestep we are\n",
    "- The Timestep is encoded by the transformer Sinusoidal Embedding\n",
    "- We output one single value (mean), because the variance is fixed\n"
   ]
  },
  {
   "cell_type": "code",
   "execution_count": null,
   "metadata": {
    "colab": {
     "base_uri": "https://localhost:8080/"
    },
    "id": "KOYPSxPf_LL7",
    "outputId": "54827b7e-b9c1-4ee5-d6da-07ec7d0e8af2"
   },
   "outputs": [],
   "source": [
    "from torch import nn\n",
    "import math\n",
    "\n",
    "\n",
    "class Block(nn.Module):\n",
    "    def __init__(self, in_ch, out_ch, time_emb_dim, up=False):\n",
    "        super().__init__()\n",
    "        self.time_mlp =  nn.Linear(time_emb_dim, out_ch)\n",
    "        if up:\n",
    "            self.conv1 = nn.Conv2d(2*in_ch, out_ch, 3, padding=1)\n",
    "            self.transform = nn.ConvTranspose2d(out_ch, out_ch, 4, 2, 1)\n",
    "        else:\n",
    "            self.conv1 = nn.Conv2d(in_ch, out_ch, 3, padding=1)\n",
    "            self.transform = nn.Conv2d(out_ch, out_ch, 4, 2, 1)\n",
    "        self.conv2 = nn.Conv2d(out_ch, out_ch, 3, padding=1)\n",
    "        self.bnorm1 = nn.BatchNorm2d(out_ch)\n",
    "        self.bnorm2 = nn.BatchNorm2d(out_ch)\n",
    "        self.relu  = nn.ReLU()\n",
    "\n",
    "    def forward(self, x, t, ):\n",
    "        # First Conv\n",
    "        h = self.bnorm1(self.relu(self.conv1(x)))\n",
    "        # Time embedding\n",
    "        time_emb = self.relu(self.time_mlp(t))\n",
    "        # Extend last 2 dimensions\n",
    "        time_emb = time_emb[(..., ) + (None, ) * 2]\n",
    "        # Add time channel\n",
    "        h = h + time_emb\n",
    "        # Second Conv\n",
    "        h = self.bnorm2(self.relu(self.conv2(h)))\n",
    "        # Down or Upsample\n",
    "        return self.transform(h)\n",
    "\n",
    "\n",
    "class SinusoidalPositionEmbeddings(nn.Module):\n",
    "    def __init__(self, dim):\n",
    "        super().__init__()\n",
    "        self.dim = dim\n",
    "\n",
    "    def forward(self, time):\n",
    "        device = time.device\n",
    "        half_dim = self.dim // 2\n",
    "        embeddings = math.log(10000) / (half_dim - 1)\n",
    "        embeddings = torch.exp(torch.arange(half_dim, device=device) * -embeddings)\n",
    "        embeddings = time[:, None] * embeddings[None, :]\n",
    "        embeddings = torch.cat((embeddings.sin(), embeddings.cos()), dim=-1)\n",
    "        # TODO: Double check the ordering here\n",
    "        return embeddings\n",
    "\n",
    "\n",
    "class SimpleUnet(nn.Module):\n",
    "    \"\"\"\n",
    "    A simplified variant of the Unet architecture.\n",
    "    \"\"\"\n",
    "    def __init__(self):\n",
    "        super().__init__()\n",
    "        image_channels = 1\n",
    "        # down_channels = (64, 128, 256, 512, 1024)\n",
    "        # up_channels = (1024, 512, 256, 128, 64)\n",
    "        K = 8\n",
    "        down_channels = (64//K, 128//K, 256//K, 512//K, 1024//K)\n",
    "        up_channels = (1024//K, 512//K, 256//K, 128//K, 64//K)\n",
    "        out_dim = 1\n",
    "        # time_emb_dim = 32\n",
    "        time_emb_dim = 16\n",
    "\n",
    "        # Time embedding\n",
    "        self.time_mlp = nn.Sequential(\n",
    "                SinusoidalPositionEmbeddings(time_emb_dim),\n",
    "                nn.Linear(time_emb_dim, time_emb_dim),\n",
    "                nn.ReLU()\n",
    "            )\n",
    "\n",
    "        # Initial projection\n",
    "        self.conv0 = nn.Conv2d(image_channels, down_channels[0], 3, padding=1)\n",
    "\n",
    "        # Downsample\n",
    "        self.downs = nn.ModuleList([Block(down_channels[i], down_channels[i+1], \\\n",
    "                                    time_emb_dim) \\\n",
    "                    for i in range(len(down_channels)-1)])\n",
    "        # Upsample\n",
    "        self.ups = nn.ModuleList([Block(up_channels[i], up_channels[i+1], \\\n",
    "                                        time_emb_dim, up=True) \\\n",
    "                    for i in range(len(up_channels)-1)])\n",
    "\n",
    "        # Edit: Corrected a bug found by Jakub C (see YouTube comment)\n",
    "        self.output = nn.Conv2d(up_channels[-1], out_dim, 1)\n",
    "\n",
    "    def forward(self, x, timestep):\n",
    "        # Embedd time\n",
    "        t = self.time_mlp(timestep)\n",
    "        # Initial conv\n",
    "        x = self.conv0(x)\n",
    "        # Unet\n",
    "        residual_inputs = []\n",
    "        for down in self.downs:\n",
    "            x = down(x, t)\n",
    "            residual_inputs.append(x)\n",
    "        for up in self.ups:\n",
    "            residual_x = residual_inputs.pop()\n",
    "            # Add residual x as additional channels\n",
    "            x = torch.cat((x, residual_x), dim=1)\n",
    "            x = up(x, t)\n",
    "        return self.output(x)\n",
    "\n",
    "model = SimpleUnet()\n",
    "print(\"Num params: \", sum(p.numel() for p in model.parameters()))\n",
    "# model"
   ]
  },
  {
   "cell_type": "markdown",
   "metadata": {
    "id": "6tNzccxqWilM"
   },
   "source": [
    "\n",
    "**Further improvements that can be implemented:**\n",
    "- Residual connections\n",
    "- Different activation functions like SiLU, GWLU, ...\n",
    "- BatchNormalization\n",
    "- GroupNormalization\n",
    "- Attention\n",
    "- ..."
   ]
  },
  {
   "cell_type": "markdown",
   "metadata": {
    "id": "8B9GlZrotBXy"
   },
   "source": [
    "## Step 3: The loss\n",
    "\n"
   ]
  },
  {
   "cell_type": "markdown",
   "metadata": {
    "id": "ph05t8MxXMoY"
   },
   "source": [
    "**Key Takeaways:**\n",
    "- After some maths we end up with a very simple loss function\n",
    "- There are other possible choices like L2 loss ect.\n"
   ]
  },
  {
   "cell_type": "code",
   "execution_count": null,
   "metadata": {
    "id": "Ed12NNXPtDon"
   },
   "outputs": [],
   "source": [
    "def get_loss(model, x_0, t):\n",
    "    x_noisy, noise = forward_diffusion_sample(x_0, t, device)\n",
    "    noise_pred = model(x_noisy, t)\n",
    "    # return F.l1_loss(noise, noise_pred)\n",
    "    return F.mse_loss(noise, noise_pred)"
   ]
  },
  {
   "cell_type": "markdown",
   "metadata": {
    "id": "i7AZkYjKgQTm"
   },
   "source": [
    "## Sampling\n",
    "- Without adding @torch.no_grad() we quickly run out of memory, because pytorch tacks all the previous images for gradient calculation\n",
    "- Because we pre-calculated the noise variances for the forward pass, we also have to use them when we sequentially perform the backward process"
   ]
  },
  {
   "cell_type": "code",
   "execution_count": null,
   "metadata": {
    "id": "k13hj2mciCHA"
   },
   "outputs": [],
   "source": [
    "@torch.no_grad()\n",
    "def sample_timestep(x, t):\n",
    "    \"\"\"\n",
    "    Calls the model to predict the noise in the image and returns\n",
    "    the denoised image.\n",
    "    Applies noise to this image, if we are not in the last step yet.\n",
    "    \"\"\"\n",
    "    betas_t = get_index_from_list(betas, t, x.shape)\n",
    "    sqrt_one_minus_alphas_cumprod_t = get_index_from_list(\n",
    "        sqrt_one_minus_alphas_cumprod, t, x.shape\n",
    "    )\n",
    "    sqrt_recip_alphas_t = get_index_from_list(sqrt_recip_alphas, t, x.shape)\n",
    "\n",
    "    # Call model (current image - noise prediction)\n",
    "    model_mean = sqrt_recip_alphas_t * (\n",
    "        x - betas_t * model(x, t) / sqrt_one_minus_alphas_cumprod_t\n",
    "    )\n",
    "    posterior_variance_t = get_index_from_list(posterior_variance, t, x.shape)\n",
    "\n",
    "    if t == 0:\n",
    "        # As pointed out by Luis Pereira (see YouTube comment)\n",
    "        # The t's are offset from the t's in the paper\n",
    "        return model_mean\n",
    "    else:\n",
    "        noise = torch.randn_like(x)\n",
    "        return model_mean + torch.sqrt(posterior_variance_t) * noise\n",
    "\n",
    "@torch.no_grad()\n",
    "def sample_plot_image():\n",
    "    # Sample noise\n",
    "    img_size = IMG_SIZE\n",
    "    img = torch.randn((1, 1, img_size, img_size), device=device)\n",
    "    plt.figure(figsize=(15,2))\n",
    "    plt.axis('off')\n",
    "    num_images = 10\n",
    "    stepsize = int(T/num_images)\n",
    "\n",
    "    for i in range(0,T)[::-1]:\n",
    "        t = torch.full((1,), i, device=device, dtype=torch.long)\n",
    "        img = sample_timestep(img, t)\n",
    "        # Edit: This is to maintain the natural range of the distribution\n",
    "        img = torch.clamp(img, -1.0, 1.0)\n",
    "        if i % stepsize == 0:\n",
    "            plt.subplot(1, num_images, int(i/stepsize)+1)\n",
    "            show_tensor_image(img.detach().cpu())\n",
    "    plt.tight_layout()\n",
    "    plt.show()"
   ]
  },
  {
   "cell_type": "markdown",
   "metadata": {
    "id": "BIc33L9-uK4q"
   },
   "source": [
    "## Training"
   ]
  },
  {
   "cell_type": "code",
   "execution_count": null,
   "metadata": {
    "colab": {
     "base_uri": "https://localhost:8080/",
     "height": 1000
    },
    "id": "bpN_LKYwuLx0",
    "outputId": "297f1c2c-4548-4e0a-84b6-7f6cd6234875"
   },
   "outputs": [],
   "source": [
    "from torch.optim import Adam\n",
    "from tqdm import tqdm\n",
    "\n",
    "data = load_transformed_dataset()\n",
    "dataloader = DataLoader(data, batch_size=BATCH_SIZE, shuffle=True, drop_last=True)\n",
    "\n",
    "model.to(device)\n",
    "optimizer = Adam(model.parameters(), lr=0.001)\n",
    "epochs = 30 # Try more!\n",
    "\n",
    "for epoch in range(epochs):\n",
    "    for step, batch in enumerate(tqdm(dataloader, leave=False, desc=f\"Epoch {epoch}\")):\n",
    "    # for step, batch in enumerate(dataloader):\n",
    "        optimizer.zero_grad()\n",
    "\n",
    "        t = torch.randint(0, T, (BATCH_SIZE,), device=device).long()\n",
    "        loss = get_loss(model, batch, t)\n",
    "        loss.backward()\n",
    "        optimizer.step()\n",
    "\n",
    "        if epoch % 5 == 0 and step == 0:\n",
    "            print(f\"\\rEpoch {epoch} | Loss: {loss.item()} \")\n",
    "            sample_plot_image()\n",
    "    # save the model\n",
    "    torch.save(model.state_dict(), f\"mg_data/{JOBID}/diffusion_model.pth\")"
   ]
  },
  {
   "cell_type": "code",
   "execution_count": null,
   "metadata": {},
   "outputs": [],
   "source": [
    "# load the model\n",
    "model = SimpleUnet()\n",
    "model.load_state_dict(torch.load(f\"mg_data/{JOBID}/diffusion_model.pth\"))\n",
    "model.to(device)\n",
    "\n",
    "# sample and plot\n",
    "\n",
    "@torch.no_grad()\n",
    "def generate_samples(n, device=\"cpu\"):\n",
    "    imgs = torch.randn((n, 1, IMG_SIZE, IMG_SIZE), device=device) # Sample noise\n",
    "    for i in range(0,T)[::-1]:\n",
    "        t = torch.full((1,), i, device=device, dtype=torch.long)\n",
    "        imgs = sample_timestep(imgs, t)\n",
    "        # Edit: This is to maintain the natural range of the distribution\n",
    "        imgs = torch.clamp(imgs, -1.0, 1.0)\n",
    "    return imgs\n",
    "\n",
    "# Generate samples\n",
    "n = 7\n",
    "samples = generate_samples(n*n, device)\n",
    "plt.figure(figsize=(8, 8))\n",
    "plt.axis('off')\n",
    "for i in range(n):\n",
    "    for j in range(n):\n",
    "        plt.subplot(n, n, i*n+j+1)\n",
    "        show_tensor_image(samples[i*n+j].detach().cpu())\n",
    "plt.suptitle(\"Generated samples\")\n",
    "plt.tight_layout()\n",
    "plt.show()\n",
    "\n",
    "# samples from the dataset\n",
    "data = load_transformed_dataset()\n",
    "dataloader = DataLoader(data, batch_size=n*n, shuffle=True, drop_last=True)\n",
    "# sample from the dataset\n",
    "samples = next(iter(dataloader))\n",
    "plt.figure(figsize=(8, 8))\n",
    "plt.axis('off')\n",
    "for i in range(n):\n",
    "    for j in range(n):\n",
    "        plt.subplot(n, n, i*n+j+1)\n",
    "        show_tensor_image(samples[i*n+j].detach().cpu())\n",
    "plt.suptitle(\"Real samples\")\n",
    "plt.tight_layout()\n",
    "plt.show()"
   ]
  }
 ],
 "metadata": {
  "accelerator": "GPU",
  "colab": {
   "collapsed_sections": [
    "wLHSIArLcFK0",
    "Rj17psVw7Shg",
    "buW6BaNga-XH",
    "8B9GlZrotBXy",
    "i7AZkYjKgQTm",
    "BIc33L9-uK4q"
   ],
   "provenance": []
  },
  "gpuClass": "standard",
  "kernelspec": {
   "display_name": "ml",
   "language": "python",
   "name": "python3"
  },
  "language_info": {
   "codemirror_mode": {
    "name": "ipython",
    "version": 3
   },
   "file_extension": ".py",
   "mimetype": "text/x-python",
   "name": "python",
   "nbconvert_exporter": "python",
   "pygments_lexer": "ipython3",
   "version": "3.12.7"
  }
 },
 "nbformat": 4,
 "nbformat_minor": 0
}
