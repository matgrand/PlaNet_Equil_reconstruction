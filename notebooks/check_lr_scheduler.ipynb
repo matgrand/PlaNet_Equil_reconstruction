{
 "cells": [
  {
   "cell_type": "code",
   "execution_count": 1,
   "metadata": {},
   "outputs": [
    {
     "name": "stdout",
     "output_type": "stream",
     "text": [
      "0 0.001\n",
      "100 0.0009378035861648616\n",
      "200 0.0008794755662236749\n",
      "300 0.0008247753399489346\n",
      "400 0.0007734772715844537\n",
      "500 0.0007253697591089132\n",
      "600 0.0006802543613878807\n",
      "700 0.0006379449796138422\n",
      "800 0.0005982670896577307\n",
      "900 0.0005610570221654346\n",
      "1000 0.0005261612874297229\n",
      "1100 0.0004934359422527146\n",
      "1200 0.0004627459961872333\n",
      "1300 0.00043396485470781874\n",
      "1400 0.00040697379701450554\n",
      "1500 0.00038166148631533375\n",
      "1600 0.0003579235105675312\n",
      "1700 0.0003356619517829475\n",
      "1800 0.00031478498212114496\n",
      "1900 0.0002952064851040516\n",
      "2000 0.00027684570038970344\n",
      "2100 0.0002596268906397867\n",
      "2200 0.00024347902910682432\n",
      "2300 0.00022833550665231857\n",
      "2400 0.00021413385698731497\n",
      "2500 0.00020081549900201754\n",
      "2600 0.00018832549512157824\n",
      "2700 0.00017661232469128922\n"
     ]
    }
   ],
   "source": [
    "initial_learning_rate = 0.001\n",
    "decay_rate = 0.75\n",
    "decay_steps = 70000\n",
    "n_training_sample = 10000 #70000\n",
    "batch_size = 64\n",
    "\n",
    "def decayed_learning_rate(step):\n",
    "    return initial_learning_rate * decay_rate ** (step / decay_steps)\n",
    "\n",
    "for i in range(2800):\n",
    "    if i//100 == i/100:\n",
    "        print(i, decayed_learning_rate(i*n_training_sample/batch_size))"
   ]
  }
 ],
 "metadata": {
  "kernelspec": {
   "display_name": "Python 3",
   "language": "python",
   "name": "python3"
  },
  "language_info": {
   "codemirror_mode": {
    "name": "ipython",
    "version": 3
   },
   "file_extension": ".py",
   "mimetype": "text/x-python",
   "name": "python",
   "nbconvert_exporter": "python",
   "pygments_lexer": "ipython3",
   "version": "3.12.6"
  }
 },
 "nbformat": 4,
 "nbformat_minor": 2
}
